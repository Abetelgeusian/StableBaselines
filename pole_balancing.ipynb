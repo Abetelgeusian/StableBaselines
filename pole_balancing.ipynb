{
 "cells": [
  {
   "cell_type": "code",
   "execution_count": 1,
   "metadata": {},
   "outputs": [
    {
     "name": "stdout",
     "output_type": "stream",
     "text": [
      "Hello\n"
     ]
    }
   ],
   "source": [
    "print(\"Hello\")"
   ]
  },
  {
   "cell_type": "code",
   "execution_count": 2,
   "metadata": {},
   "outputs": [],
   "source": [
    "import gym\n",
    "import numpy as np"
   ]
  },
  {
   "cell_type": "code",
   "execution_count": 3,
   "metadata": {},
   "outputs": [
    {
     "name": "stderr",
     "output_type": "stream",
     "text": [
      "c:\\Users\\hvarp\\anaconda3\\envs\\stableb\\lib\\site-packages\\tqdm\\auto.py:22: TqdmWarning: IProgress not found. Please update jupyter and ipywidgets. See https://ipywidgets.readthedocs.io/en/stable/user_install.html\n",
      "  from .autonotebook import tqdm as notebook_tqdm\n"
     ]
    }
   ],
   "source": [
    "from stable_baselines3 import PPO"
   ]
  },
  {
   "cell_type": "code",
   "execution_count": 4,
   "metadata": {},
   "outputs": [],
   "source": [
    "from stable_baselines3.ppo import MlpPolicy"
   ]
  },
  {
   "cell_type": "code",
   "execution_count": 5,
   "metadata": {},
   "outputs": [
    {
     "name": "stdout",
     "output_type": "stream",
     "text": [
      "Using cpu device\n",
      "Wrapping the env with a `Monitor` wrapper\n",
      "Wrapping the env in a DummyVecEnv.\n"
     ]
    }
   ],
   "source": [
    "env = gym.make('CartPole-v1')\n",
    "\n",
    "model = PPO(MlpPolicy, env, verbose=1)"
   ]
  },
  {
   "cell_type": "code",
   "execution_count": 6,
   "metadata": {},
   "outputs": [],
   "source": [
    "def evaluate(model, num_episodes=100, deterministic=True):\n",
    "    \"\"\"\n",
    "    Evaluate a RL agent\n",
    "    :param model: (BaseRLModel object) the RL Agent\n",
    "    :param num_episodes: (int) number of episodes to evaluate it\n",
    "    :return: (float) Mean reward for the last num_episodes\n",
    "    \"\"\"\n",
    "    # This function will only work for a single Environment\n",
    "    env = model.get_env()\n",
    "    all_episode_rewards = []\n",
    "    for i in range(num_episodes):\n",
    "        episode_rewards = []\n",
    "        done = False\n",
    "        obs = env.reset()\n",
    "        while not done:\n",
    "            # _states are only useful when using LSTM policies\n",
    "            action, _states = model.predict(obs, deterministic=deterministic)\n",
    "            # here, action, rewards and dones are arrays\n",
    "            # because we are using vectorized env\n",
    "            obs, reward, done, info = env.step(action)\n",
    "            episode_rewards.append(reward)\n",
    "\n",
    "        all_episode_rewards.append(sum(episode_rewards))\n",
    "\n",
    "    mean_episode_reward = np.mean(all_episode_rewards)\n",
    "    print(\"Mean reward:\", mean_episode_reward, \"Num episodes:\", num_episodes)\n",
    "\n",
    "    return mean_episode_reward"
   ]
  },
  {
   "cell_type": "code",
   "execution_count": 7,
   "metadata": {},
   "outputs": [],
   "source": [
    "from stable_baselines3.common.evaluation import evaluate_policy"
   ]
  },
  {
   "cell_type": "code",
   "execution_count": 8,
   "metadata": {},
   "outputs": [],
   "source": [
    "eval_env = gym.make('CartPole-v1')"
   ]
  },
  {
   "cell_type": "code",
   "execution_count": 9,
   "metadata": {},
   "outputs": [
    {
     "name": "stderr",
     "output_type": "stream",
     "text": [
      "c:\\Users\\hvarp\\anaconda3\\envs\\stableb\\lib\\site-packages\\stable_baselines3\\common\\evaluation.py:65: UserWarning: Evaluation environment is not wrapped with a ``Monitor`` wrapper. This may result in reporting modified episode lengths and rewards, if other wrappers happen to modify these. Consider wrapping environment first with ``Monitor`` wrapper.\n",
      "  warnings.warn(\n"
     ]
    },
    {
     "name": "stdout",
     "output_type": "stream",
     "text": [
      "mean_reward:9.14 +/- 0.75\n"
     ]
    }
   ],
   "source": [
    "# Use a separate environement for evaluation\n",
    "# eval_env = gym.make('CartPole-v1')\n",
    "\n",
    "# Random Agent, before training\n",
    "mean_reward, std_reward = evaluate_policy(model, eval_env, n_eval_episodes=100)\n",
    "\n",
    "print(f\"mean_reward:{mean_reward:.2f} +/- {std_reward:.2f}\")"
   ]
  },
  {
   "cell_type": "code",
   "execution_count": 10,
   "metadata": {},
   "outputs": [
    {
     "name": "stdout",
     "output_type": "stream",
     "text": [
      "---------------------------------\n",
      "| rollout/           |          |\n",
      "|    ep_len_mean     | 23.9     |\n",
      "|    ep_rew_mean     | 23.9     |\n",
      "| time/              |          |\n",
      "|    fps             | 2437     |\n",
      "|    iterations      | 1        |\n",
      "|    time_elapsed    | 0        |\n",
      "|    total_timesteps | 2048     |\n",
      "---------------------------------\n",
      "-----------------------------------------\n",
      "| rollout/                |             |\n",
      "|    ep_len_mean          | 27.4        |\n",
      "|    ep_rew_mean          | 27.4        |\n",
      "| time/                   |             |\n",
      "|    fps                  | 1475        |\n",
      "|    iterations           | 2           |\n",
      "|    time_elapsed         | 2           |\n",
      "|    total_timesteps      | 4096        |\n",
      "| train/                  |             |\n",
      "|    approx_kl            | 0.008298017 |\n",
      "|    clip_fraction        | 0.0975      |\n",
      "|    clip_range           | 0.2         |\n",
      "|    entropy_loss         | -0.686      |\n",
      "|    explained_variance   | -0.00396    |\n",
      "|    learning_rate        | 0.0003      |\n",
      "|    loss                 | 7.88        |\n",
      "|    n_updates            | 10          |\n",
      "|    policy_gradient_loss | -0.0166     |\n",
      "|    value_loss           | 61.5        |\n",
      "-----------------------------------------\n",
      "-----------------------------------------\n",
      "| rollout/                |             |\n",
      "|    ep_len_mean          | 37.9        |\n",
      "|    ep_rew_mean          | 37.9        |\n",
      "| time/                   |             |\n",
      "|    fps                  | 1357        |\n",
      "|    iterations           | 3           |\n",
      "|    time_elapsed         | 4           |\n",
      "|    total_timesteps      | 6144        |\n",
      "| train/                  |             |\n",
      "|    approx_kl            | 0.009259019 |\n",
      "|    clip_fraction        | 0.061       |\n",
      "|    clip_range           | 0.2         |\n",
      "|    entropy_loss         | -0.665      |\n",
      "|    explained_variance   | 0.0629      |\n",
      "|    learning_rate        | 0.0003      |\n",
      "|    loss                 | 12.6        |\n",
      "|    n_updates            | 20          |\n",
      "|    policy_gradient_loss | -0.0162     |\n",
      "|    value_loss           | 36.8        |\n",
      "-----------------------------------------\n",
      "-----------------------------------------\n",
      "| rollout/                |             |\n",
      "|    ep_len_mean          | 46.9        |\n",
      "|    ep_rew_mean          | 46.9        |\n",
      "| time/                   |             |\n",
      "|    fps                  | 1290        |\n",
      "|    iterations           | 4           |\n",
      "|    time_elapsed         | 6           |\n",
      "|    total_timesteps      | 8192        |\n",
      "| train/                  |             |\n",
      "|    approx_kl            | 0.007626595 |\n",
      "|    clip_fraction        | 0.0709      |\n",
      "|    clip_range           | 0.2         |\n",
      "|    entropy_loss         | -0.636      |\n",
      "|    explained_variance   | 0.187       |\n",
      "|    learning_rate        | 0.0003      |\n",
      "|    loss                 | 19.3        |\n",
      "|    n_updates            | 30          |\n",
      "|    policy_gradient_loss | -0.0151     |\n",
      "|    value_loss           | 56.6        |\n",
      "-----------------------------------------\n",
      "------------------------------------------\n",
      "| rollout/                |              |\n",
      "|    ep_len_mean          | 63.2         |\n",
      "|    ep_rew_mean          | 63.2         |\n",
      "| time/                   |              |\n",
      "|    fps                  | 1251         |\n",
      "|    iterations           | 5            |\n",
      "|    time_elapsed         | 8            |\n",
      "|    total_timesteps      | 10240        |\n",
      "| train/                  |              |\n",
      "|    approx_kl            | 0.0076172203 |\n",
      "|    clip_fraction        | 0.062        |\n",
      "|    clip_range           | 0.2          |\n",
      "|    entropy_loss         | -0.61        |\n",
      "|    explained_variance   | 0.308        |\n",
      "|    learning_rate        | 0.0003       |\n",
      "|    loss                 | 23.7         |\n",
      "|    n_updates            | 40           |\n",
      "|    policy_gradient_loss | -0.0174      |\n",
      "|    value_loss           | 62.6         |\n",
      "------------------------------------------\n"
     ]
    },
    {
     "data": {
      "text/plain": [
       "<stable_baselines3.ppo.ppo.PPO at 0x1c7b1e12d70>"
      ]
     },
     "execution_count": 10,
     "metadata": {},
     "output_type": "execute_result"
    }
   ],
   "source": [
    "# Train the agent for 10000 steps\n",
    "model.learn(total_timesteps=10000)"
   ]
  },
  {
   "cell_type": "code",
   "execution_count": 11,
   "metadata": {},
   "outputs": [
    {
     "name": "stdout",
     "output_type": "stream",
     "text": [
      "mean_reward:439.10 +/- 89.72\n"
     ]
    }
   ],
   "source": [
    "# Evaluate the trained agent\n",
    "mean_reward, std_reward = evaluate_policy(model, eval_env, n_eval_episodes=100)\n",
    "\n",
    "print(f\"mean_reward:{mean_reward:.2f} +/- {std_reward:.2f}\")"
   ]
  },
  {
   "cell_type": "code",
   "execution_count": 12,
   "metadata": {},
   "outputs": [],
   "source": [
    "import base64\n",
    "from pathlib import Path\n",
    "\n",
    "from IPython import display as ipythondisplay\n",
    "\n",
    "def show_videos(video_path='', prefix=''):\n",
    "  \"\"\"\n",
    "  Taken from https://github.com/eleurent/highway-env\n",
    "\n",
    "  :param video_path: (str) Path to the folder containing videos\n",
    "  :param prefix: (str) Filter the video, showing only the only starting with this prefix\n",
    "  \"\"\"\n",
    "  html = []\n",
    "  for mp4 in Path(video_path).glob(\"{}*.mp4\".format(prefix)):\n",
    "      video_b64 = base64.b64encode(mp4.read_bytes())\n",
    "      html.append('''<video alt=\"{}\" autoplay \n",
    "                    loop controls style=\"height: 400px;\">\n",
    "                    <source src=\"data:video/mp4;base64,{}\" type=\"video/mp4\" />\n",
    "                </video>'''.format(mp4, video_b64.decode('ascii')))\n",
    "  ipythondisplay.display(ipythondisplay.HTML(data=\"<br>\".join(html)))"
   ]
  },
  {
   "cell_type": "code",
   "execution_count": 13,
   "metadata": {},
   "outputs": [],
   "source": [
    "from stable_baselines3.common.vec_env import VecVideoRecorder, DummyVecEnv\n",
    "\n",
    "def record_video(env_id, model, video_length=500, prefix='', video_folder='videos/'):\n",
    "  \"\"\"\n",
    "  :param env_id: (str)\n",
    "  :param model: (RL model)\n",
    "  :param video_length: (int)\n",
    "  :param prefix: (str)\n",
    "  :param video_folder: (str)\n",
    "  \"\"\"\n",
    "  eval_env = DummyVecEnv([lambda: gym.make('CartPole-v1')])\n",
    "  # Start the video at step=0 and record 500 steps\n",
    "  eval_env = VecVideoRecorder(eval_env, video_folder=video_folder,\n",
    "                              record_video_trigger=lambda step: step == 0, video_length=video_length,\n",
    "                              name_prefix=prefix)\n",
    "\n",
    "  obs = eval_env.reset()\n",
    "  for _ in range(video_length):\n",
    "    action, _ = model.predict(obs)\n",
    "    obs, _, _, _ = eval_env.step(action)\n",
    "\n",
    "  # Close the video recorder\n",
    "  eval_env.close()"
   ]
  },
  {
   "cell_type": "code",
   "execution_count": 14,
   "metadata": {},
   "outputs": [
    {
     "name": "stderr",
     "output_type": "stream",
     "text": [
      "c:\\Users\\hvarp\\anaconda3\\envs\\stableb\\lib\\site-packages\\pyglet\\image\\codecs\\wic.py:406: UserWarning: [WinError -2147417850] Cannot change thread mode after it is set\n",
      "  warnings.warn(str(err))\n"
     ]
    },
    {
     "name": "stdout",
     "output_type": "stream",
     "text": [
      "Saving video to d:\\Fall_22\\StableBaselines\\videos\\ppo2-cartpole-step-0-to-step-500.mp4\n"
     ]
    }
   ],
   "source": [
    "record_video('CartPole-v1', model, video_length=500, prefix='ppo2-cartpole')\n",
    "# only works with pyglet 1.5.27 or 1.4.0"
   ]
  },
  {
   "cell_type": "code",
   "execution_count": 15,
   "metadata": {},
   "outputs": [
    {
     "data": {
      "text/html": [
       "<video alt=\"videos\\ppo2-cartpole-step-0-to-step-500.mp4\" autoplay \n",
       "                    loop controls style=\"height: 400px;\">\n",
       "                    <source src=\"data:video/mp4;base64,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\" type=\"video/mp4\" />\n",
       "                </video>"
      ],
      "text/plain": [
       "<IPython.core.display.HTML object>"
      ]
     },
     "metadata": {},
     "output_type": "display_data"
    }
   ],
   "source": [
    "show_videos('videos', prefix='ppo2')"
   ]
  },
  {
   "cell_type": "code",
   "execution_count": null,
   "metadata": {},
   "outputs": [],
   "source": []
  }
 ],
 "metadata": {
  "kernelspec": {
   "display_name": "Python 3.10.8 ('stableb')",
   "language": "python",
   "name": "python3"
  },
  "language_info": {
   "codemirror_mode": {
    "name": "ipython",
    "version": 3
   },
   "file_extension": ".py",
   "mimetype": "text/x-python",
   "name": "python",
   "nbconvert_exporter": "python",
   "pygments_lexer": "ipython3",
   "version": "3.10.8"
  },
  "orig_nbformat": 4,
  "vscode": {
   "interpreter": {
    "hash": "f5b4c0d3c2c6c1ea022d8b7a073ed5c00b716ff4d5eddc8541f836beeb2c1bf4"
   }
  }
 },
 "nbformat": 4,
 "nbformat_minor": 2
}
